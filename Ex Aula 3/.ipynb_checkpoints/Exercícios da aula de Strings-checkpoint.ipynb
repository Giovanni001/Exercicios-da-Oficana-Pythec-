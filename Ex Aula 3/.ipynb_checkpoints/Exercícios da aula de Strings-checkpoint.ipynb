{
 "cells": [
  {
   "cell_type": "markdown",
   "metadata": {},
   "source": [
    "## Proposta"
   ]
  },
  {
   "cell_type": "markdown",
   "metadata": {},
   "source": [
    "#### 1 - Escreva um programa que:"
   ]
  },
  {
   "cell_type": "markdown",
   "metadata": {},
   "source": [
    "    * Receba o Nome Completo de uma pessoa;\n",
    "    * Mostre seu seu comprimento (não contando os espaços);\n",
    "    * E verifique se o nome da pessoa possue a letra 'e'.\n"
   ]
  },
  {
   "cell_type": "markdown",
   "metadata": {},
   "source": [
    "#### 2 - Faça um algoritmo que cheque se a palavra ou número inserido pelo usuário é o mesmo quando lido ao contrário.\n",
    "#### Ex:"
   ]
  },
  {
   "cell_type": "markdown",
   "metadata": {},
   "source": [
    "    * ama : ama\n",
    "    * arara : arara\n",
    "    * 121 : 121\n",
    "    * 1001 : 1001"
   ]
  },
  {
   "cell_type": "markdown",
   "metadata": {},
   "source": [
    "## Primeiro Exercício:"
   ]
  },
  {
   "cell_type": "code",
   "execution_count": 32,
   "metadata": {},
   "outputs": [
    {
     "name": "stdout",
     "output_type": "stream",
     "text": [
      "Digite o seu nome completo: Giovanni Manganotti Ribeiro Machado\n"
     ]
    }
   ],
   "source": [
    "nome = str(input('Digite o seu nome completo: '))"
   ]
  },
  {
   "cell_type": "code",
   "execution_count": 33,
   "metadata": {},
   "outputs": [
    {
     "name": "stdout",
     "output_type": "stream",
     "text": [
      "O seu nome tem 35 letras\n"
     ]
    }
   ],
   "source": [
    "print(f'O seu nome tem {len(nome.strip())} letras')"
   ]
  },
  {
   "cell_type": "code",
   "execution_count": 34,
   "metadata": {},
   "outputs": [
    {
     "name": "stdout",
     "output_type": "stream",
     "text": [
      "O seu nome possui a letra E\n"
     ]
    }
   ],
   "source": [
    "if 'E' or 'e' in nome:\n",
    "    print('O seu nome possui a letra E')\n",
    "else:\n",
    "    print('O seu nome não possui a letra E')"
   ]
  },
  {
   "cell_type": "markdown",
   "metadata": {},
   "source": [
    "## Segundo Exercício:"
   ]
  },
  {
   "cell_type": "code",
   "execution_count": 48,
   "metadata": {},
   "outputs": [
    {
     "name": "stdout",
     "output_type": "stream",
     "text": [
      "Digite uma palavra/Numero: Ana\n"
     ]
    }
   ],
   "source": [
    "palavra = (input('Digite uma palavra/Numero: ')).upper()"
   ]
  },
  {
   "cell_type": "code",
   "execution_count": 49,
   "metadata": {},
   "outputs": [
    {
     "name": "stdout",
     "output_type": "stream",
     "text": [
      "A palavra/numero lido(a) de traz para frente é a mesma !\n"
     ]
    }
   ],
   "source": [
    "if palavra == palavra[::-1]:\n",
    "    print('A palavra/numero lido(a) de traz para frente é a mesma !')\n",
    "    \n",
    "else:\n",
    "    print('A palavra/numero lido(a) de traz para frente não é a mesma !')"
   ]
  }
 ],
 "metadata": {
  "kernelspec": {
   "display_name": "Python 3",
   "language": "python",
   "name": "python3"
  },
  "language_info": {
   "codemirror_mode": {
    "name": "ipython",
    "version": 3
   },
   "file_extension": ".py",
   "mimetype": "text/x-python",
   "name": "python",
   "nbconvert_exporter": "python",
   "pygments_lexer": "ipython3",
   "version": "3.7.1"
  }
 },
 "nbformat": 4,
 "nbformat_minor": 2
}
