{
 "cells": [
  {
   "cell_type": "markdown",
   "metadata": {},
   "source": [
    "## Proposta"
   ]
  },
  {
   "cell_type": "markdown",
   "metadata": {},
   "source": [
    "#### 1 - Crie um script em que:"
   ]
  },
  {
   "cell_type": "markdown",
   "metadata": {},
   "source": [
    "* O usuário digite as notas de n alunos;\n",
    "* Tais notas devem ser salvas em um dicionário;\n",
    "* Exiba todos os alunos registrados;\n",
    "* E mostre o aluno que obteve a maior nota."
   ]
  },
  {
   "cell_type": "code",
   "execution_count": 2,
   "metadata": {},
   "outputs": [
    {
     "name": "stdout",
     "output_type": "stream",
     "text": [
      "Quantos alunos deseja adicionar ? 3\n"
     ]
    }
   ],
   "source": [
    "alunos = int(input('Quantos alunos deseja adicionar ? '))"
   ]
  },
  {
   "cell_type": "code",
   "execution_count": 43,
   "metadata": {},
   "outputs": [
    {
     "name": "stdout",
     "output_type": "stream",
     "text": [
      "Digite a nota do aluno: 5\n",
      "Digite a nota do aluno: 7\n",
      "Digite a nota do aluno: 3\n"
     ]
    }
   ],
   "source": [
    "cont  = 0\n",
    "dicionario = {}\n",
    "lista = []\n",
    "maior = 0\n",
    "\n",
    "while cont < alunos:\n",
    "    dicionario['Nota'] = float(input('Digite a nota do aluno: '))\n",
    "    cont += 1\n",
    "    if dicionario['Nota'] > maior:\n",
    "        maior = dicionario['Nota']\n",
    "    lista.append(dicionario.copy())"
   ]
  },
  {
   "cell_type": "code",
   "execution_count": 44,
   "metadata": {},
   "outputs": [
    {
     "name": "stdout",
     "output_type": "stream",
     "text": [
      "1° Nota: {'Nota': 5.0}\n",
      "2° Nota: {'Nota': 7.0}\n",
      "3° Nota: {'Nota': 3.0}\n"
     ]
    }
   ],
   "source": [
    "for indice,nota in enumerate(lista):\n",
    "    print(f'{indice+1}° Nota: {nota}')"
   ]
  },
  {
   "cell_type": "code",
   "execution_count": 46,
   "metadata": {},
   "outputs": [
    {
     "name": "stdout",
     "output_type": "stream",
     "text": [
      "A maior nota foi 7.0\n"
     ]
    }
   ],
   "source": [
    "print(f'A maior nota foi {maior}')"
   ]
  }
 ],
 "metadata": {
  "kernelspec": {
   "display_name": "Python 3",
   "language": "python",
   "name": "python3"
  },
  "language_info": {
   "codemirror_mode": {
    "name": "ipython",
    "version": 3
   },
   "file_extension": ".py",
   "mimetype": "text/x-python",
   "name": "python",
   "nbconvert_exporter": "python",
   "pygments_lexer": "ipython3",
   "version": "3.7.1"
  }
 },
 "nbformat": 4,
 "nbformat_minor": 2
}
