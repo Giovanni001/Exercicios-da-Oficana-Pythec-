{
 "cells": [
  {
   "cell_type": "markdown",
   "metadata": {},
   "source": [
    "## Proposta"
   ]
  },
  {
   "cell_type": "markdown",
   "metadata": {},
   "source": [
    "#### 1 - Escreva um script que:"
   ]
  },
  {
   "cell_type": "markdown",
   "metadata": {},
   "source": [
    "* Receba do usuário nomes;\n",
    "* Guarde-os numa lista;\n",
    "* Termine a operação quando for digitado sair ou x;\n",
    "* E exiba todos os nomes e seu respectivo índice."
   ]
  },
  {
   "cell_type": "markdown",
   "metadata": {},
   "source": [
    "#### 2 - Faça um programa que:"
   ]
  },
  {
   "cell_type": "markdown",
   "metadata": {},
   "source": [
    "* Usando range crie uma lista de 0 à 100\n",
    "* Copie os elementos pares para uma lista_a e o ímpares para uma lista_b"
   ]
  },
  {
   "cell_type": "markdown",
   "metadata": {},
   "source": [
    "## Primeiro Exercício: "
   ]
  },
  {
   "cell_type": "code",
   "execution_count": 7,
   "metadata": {},
   "outputs": [
    {
     "name": "stdout",
     "output_type": "stream",
     "text": [
      "Digite um nome: pedro\n",
      "Deseja continuar ? sim\n",
      "Digite um nome: ana\n",
      "Deseja continuar ? sim\n",
      "Digite um nome: carlos\n",
      "Deseja continuar ? sair\n"
     ]
    }
   ],
   "source": [
    "resp = ''\n",
    "lista = []\n",
    "while True:\n",
    "    nome = str(input('Digite um nome: '))\n",
    "    lista.append(nome)\n",
    "    \n",
    "    resp = str(input('Deseja continuar ? ')).upper()\n",
    "    if resp == 'X' or resp == 'SAIR':\n",
    "        break"
   ]
  },
  {
   "cell_type": "code",
   "execution_count": 14,
   "metadata": {},
   "outputs": [
    {
     "name": "stdout",
     "output_type": "stream",
     "text": [
      "O nome pedro está na 1° posição\n",
      "O nome ana está na 2° posição\n",
      "O nome carlos está na 3° posição\n"
     ]
    }
   ],
   "source": [
    "for indice,nome in enumerate(lista):\n",
    "    print(f'O nome {nome} está na {indice+1}° posição')"
   ]
  },
  {
   "cell_type": "markdown",
   "metadata": {},
   "source": [
    "## Segundo Exercício:"
   ]
  },
  {
   "cell_type": "code",
   "execution_count": 15,
   "metadata": {},
   "outputs": [],
   "source": [
    "lista_a = []\n",
    "lista_b = []\n",
    "for numero in range(0,101):\n",
    "    if numero % 2 == 0:\n",
    "        lista_a.append(numero)\n",
    "    else:\n",
    "        lista_b.append(numero)"
   ]
  },
  {
   "cell_type": "code",
   "execution_count": 17,
   "metadata": {},
   "outputs": [
    {
     "name": "stdout",
     "output_type": "stream",
     "text": [
      "Numeros Pares: [0, 2, 4, 6, 8, 10, 12, 14, 16, 18, 20, 22, 24, 26, 28, 30, 32, 34, 36, 38, 40, 42, 44, 46, 48, 50, 52, 54, 56, 58, 60, 62, 64, 66, 68, 70, 72, 74, 76, 78, 80, 82, 84, 86, 88, 90, 92, 94, 96, 98, 100]\n",
      "\n",
      "Numeros Impares: [1, 3, 5, 7, 9, 11, 13, 15, 17, 19, 21, 23, 25, 27, 29, 31, 33, 35, 37, 39, 41, 43, 45, 47, 49, 51, 53, 55, 57, 59, 61, 63, 65, 67, 69, 71, 73, 75, 77, 79, 81, 83, 85, 87, 89, 91, 93, 95, 97, 99]\n"
     ]
    }
   ],
   "source": [
    "print(f'Numeros Pares: {lista_a}')\n",
    "print()\n",
    "print(f'Numeros Impares: {lista_b}')"
   ]
  },
  {
   "cell_type": "code",
   "execution_count": null,
   "metadata": {},
   "outputs": [],
   "source": []
  }
 ],
 "metadata": {
  "kernelspec": {
   "display_name": "Python 3",
   "language": "python",
   "name": "python3"
  },
  "language_info": {
   "codemirror_mode": {
    "name": "ipython",
    "version": 3
   },
   "file_extension": ".py",
   "mimetype": "text/x-python",
   "name": "python",
   "nbconvert_exporter": "python",
   "pygments_lexer": "ipython3",
   "version": "3.7.1"
  }
 },
 "nbformat": 4,
 "nbformat_minor": 2
}
