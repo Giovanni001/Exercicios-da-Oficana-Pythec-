{
 "cells": [
  {
   "cell_type": "markdown",
   "metadata": {},
   "source": [
    "## Proposta:"
   ]
  },
  {
   "cell_type": "markdown",
   "metadata": {},
   "source": [
    "#### Crie um programa que:"
   ]
  },
  {
   "cell_type": "markdown",
   "metadata": {},
   "source": [
    "    * Leia 2 notas de um aluno;\n",
    "    * Exiba sua maior nota;\n",
    "    * Mostre a média entre as notas.\n",
    "    "
   ]
  },
  {
   "cell_type": "markdown",
   "metadata": {},
   "source": [
    "#### Desenvolva um algoritmo que:"
   ]
  },
  {
   "cell_type": "markdown",
   "metadata": {},
   "source": [
    "    * Leia um número e diga se é par ou ímpar"
   ]
  },
  {
   "cell_type": "markdown",
   "metadata": {},
   "source": [
    "## Primeiro Exercício"
   ]
  },
  {
   "cell_type": "code",
   "execution_count": 1,
   "metadata": {},
   "outputs": [
    {
     "name": "stdout",
     "output_type": "stream",
     "text": [
      "Digite a primeira nota: 8.5\n",
      "Digite a segunda nota: 4.9\n"
     ]
    }
   ],
   "source": [
    "nota = float(input('Digite a primeira nota: '))\n",
    "nota2 = float(input('Digite a segunda nota: '))"
   ]
  },
  {
   "cell_type": "code",
   "execution_count": 2,
   "metadata": {},
   "outputs": [
    {
     "name": "stdout",
     "output_type": "stream",
     "text": [
      "A nota 8.5 é maior que a nota 4.9\n"
     ]
    }
   ],
   "source": [
    "if nota > nota2:\n",
    "    print(f'A nota {nota} é maior que a nota {nota2}')\n",
    "\n",
    "elif nota2 > nota:\n",
    "    print(f'A nota {nota2} é maior que a nota {nota}')\n",
    "        "
   ]
  },
  {
   "cell_type": "code",
   "execution_count": 3,
   "metadata": {},
   "outputs": [
    {
     "name": "stdout",
     "output_type": "stream",
     "text": [
      "A média das nota é de 6.7\n"
     ]
    }
   ],
   "source": [
    "media= (nota + nota2) / 2\n",
    "\n",
    "print(f'A média das nota é de {media}')\n"
   ]
  },
  {
   "cell_type": "markdown",
   "metadata": {},
   "source": [
    "## Segundo Exercício"
   ]
  },
  {
   "cell_type": "code",
   "execution_count": 4,
   "metadata": {},
   "outputs": [
    {
     "name": "stdout",
     "output_type": "stream",
     "text": [
      "Digite um numero: 8\n"
     ]
    }
   ],
   "source": [
    "numero = int(input('Digite um numero: '))"
   ]
  },
  {
   "cell_type": "code",
   "execution_count": 5,
   "metadata": {},
   "outputs": [
    {
     "name": "stdout",
     "output_type": "stream",
     "text": [
      "O numero 8 é Par\n"
     ]
    }
   ],
   "source": [
    "if numero % 2 == 0:\n",
    "    print(f'O numero {numero} é Par')\n",
    "\n",
    "elif numero % 2 == 1:\n",
    "    print(f'O numero {numero} é Impar')"
   ]
  },
  {
   "cell_type": "code",
   "execution_count": null,
   "metadata": {},
   "outputs": [],
   "source": []
  }
 ],
 "metadata": {
  "kernelspec": {
   "display_name": "Python 3",
   "language": "python",
   "name": "python3"
  },
  "language_info": {
   "codemirror_mode": {
    "name": "ipython",
    "version": 3
   },
   "file_extension": ".py",
   "mimetype": "text/x-python",
   "name": "python",
   "nbconvert_exporter": "python",
   "pygments_lexer": "ipython3",
   "version": "3.7.1"
  }
 },
 "nbformat": 4,
 "nbformat_minor": 2
}
